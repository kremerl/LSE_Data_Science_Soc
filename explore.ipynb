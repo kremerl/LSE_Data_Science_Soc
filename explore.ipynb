{
 "metadata": {
  "language_info": {
   "codemirror_mode": {
    "name": "ipython",
    "version": 3
   },
   "file_extension": ".py",
   "mimetype": "text/x-python",
   "name": "python",
   "nbconvert_exporter": "python",
   "pygments_lexer": "ipython3",
   "version": "3.7.1-final"
  },
  "orig_nbformat": 2,
  "kernelspec": {
   "name": "python3",
   "display_name": "Python 3.7.1 32-bit",
   "metadata": {
    "interpreter": {
     "hash": "ee7b6d66088ca9e26c7b35a5c8a958f36d1cc056939be9b19fd75b2544666df7"
    }
   }
  }
 },
 "nbformat": 4,
 "nbformat_minor": 2,
 "cells": [
  {
   "source": [],
   "cell_type": "markdown",
   "metadata": {}
  },
  {
   "cell_type": "code",
   "execution_count": 3,
   "metadata": {},
   "outputs": [],
   "source": [
    "import pandas as pd\n",
    "daf=pd.read_csv(\"D:/LSE/revision 2021/DS project/uttn/business_info.csv\",low_memory=False)\n"
   ]
  },
  {
   "cell_type": "code",
   "execution_count": 4,
   "metadata": {},
   "outputs": [],
   "source": [
    "import pandas as pd\n",
    "daf=pd.read_csv(\"D:/LSE/revision 2021/DS project/uttn/business_info.csv\",low_memory=False)\n"
   ]
  },
  {
   "cell_type": "code",
   "execution_count": 5,
   "metadata": {},
   "outputs": [
    {
     "output_type": "stream",
     "name": "stdout",
     "text": [
      "[nan \"'yes_free'\" \"'no'\" \"u'yes_corkage'\" 'None' \"'yes_corkage'\"\n \"u'yes_free'\" \"u'no'\"]\n"
     ]
    }
   ],
   "source": [
    "print(daf['attributes.BYOBCorkage'].unique())\n"
   ]
  },
  {
   "cell_type": "code",
   "execution_count": 15,
   "metadata": {
    "tags": []
   },
   "outputs": [
    {
     "output_type": "stream",
     "name": "stdout",
     "text": [
      "business_id {<class 'str'>}\n",
      "name {<class 'float'>, <class 'str'>}\n",
      "address {<class 'float'>, <class 'str'>}\n",
      "city {<class 'float'>, <class 'str'>}\n",
      "state {<class 'str'>}\n",
      "postal_code {<class 'float'>, <class 'str'>}\n",
      "latitude {<class 'float'>}\n",
      "longitude {<class 'float'>}\n",
      "stars {<class 'float'>}\n",
      "review_count {<class 'int'>}\n",
      "is_open {<class 'int'>}\n",
      "categories {<class 'float'>, <class 'str'>}\n",
      "attributes.BusinessAcceptsCreditCards {<class 'float'>, <class 'str'>}\n",
      "attributes.BikeParking {<class 'float'>, <class 'str'>}\n",
      "attributes.GoodForKids {<class 'float'>, <class 'str'>}\n",
      "attributes.BusinessParking {<class 'float'>, <class 'str'>}\n",
      "attributes.ByAppointmentOnly {<class 'float'>, <class 'str'>}\n",
      "attributes.RestaurantsPriceRange2 {<class 'float'>, <class 'str'>}\n",
      "hours.Monday {<class 'float'>, <class 'str'>}\n",
      "hours.Tuesday {<class 'float'>, <class 'str'>}\n",
      "hours.Wednesday {<class 'float'>, <class 'str'>}\n",
      "hours.Thursday {<class 'float'>, <class 'str'>}\n",
      "hours.Friday {<class 'float'>, <class 'str'>}\n",
      "hours.Saturday {<class 'float'>, <class 'str'>}\n",
      "hours.Sunday {<class 'float'>, <class 'str'>}\n",
      "hours {<class 'float'>}\n",
      "attributes {<class 'float'>}\n",
      "attributes.DogsAllowed {<class 'float'>, <class 'str'>}\n",
      "attributes.WiFi {<class 'float'>, <class 'str'>}\n",
      "attributes.RestaurantsAttire {<class 'float'>, <class 'str'>}\n",
      "attributes.RestaurantsTakeOut {<class 'float'>, <class 'str'>}\n",
      "attributes.NoiseLevel {<class 'float'>, <class 'str'>}\n",
      "attributes.RestaurantsReservations {<class 'float'>, <class 'str'>}\n",
      "attributes.RestaurantsGoodForGroups {<class 'float'>, <class 'str'>}\n",
      "attributes.HasTV {<class 'float'>, <class 'str'>}\n",
      "attributes.Alcohol {<class 'float'>, <class 'str'>}\n",
      "attributes.RestaurantsDelivery {<class 'float'>, <class 'str'>}\n",
      "attributes.OutdoorSeating {<class 'float'>, <class 'str'>}\n",
      "attributes.Caters {<class 'float'>, <class 'str'>}\n",
      "attributes.WheelchairAccessible {<class 'float'>, <class 'str'>}\n",
      "attributes.AcceptsInsurance {<class 'float'>, <class 'str'>}\n",
      "attributes.RestaurantsTableService {<class 'float'>, <class 'str'>}\n",
      "attributes.Ambience {<class 'float'>, <class 'str'>}\n",
      "attributes.GoodForMeal {<class 'float'>, <class 'str'>}\n",
      "attributes.HappyHour {<class 'float'>, <class 'str'>}\n",
      "attributes.BusinessAcceptsBitcoin {<class 'float'>, <class 'str'>}\n",
      "attributes.BYOB {<class 'float'>, <class 'str'>}\n",
      "attributes.Corkage {<class 'float'>, <class 'str'>}\n",
      "attributes.GoodForDancing {<class 'float'>, <class 'str'>}\n",
      "attributes.CoatCheck {<class 'float'>, <class 'str'>}\n",
      "attributes.BestNights {<class 'float'>, <class 'str'>}\n",
      "attributes.Music {<class 'float'>, <class 'str'>}\n",
      "attributes.Smoking {<class 'float'>, <class 'str'>}\n",
      "attributes.DietaryRestrictions {<class 'float'>, <class 'str'>}\n",
      "attributes.DriveThru {<class 'float'>, <class 'str'>}\n",
      "attributes.HairSpecializesIn {<class 'float'>, <class 'str'>}\n",
      "attributes.BYOBCorkage {<class 'float'>, <class 'str'>}\n",
      "attributes.AgesAllowed {<class 'float'>, <class 'str'>}\n",
      "attributes.RestaurantsCounterService {<class 'float'>, <class 'bool'>}\n",
      "attributes.Open24Hours {<class 'float'>, <class 'bool'>}\n"
     ]
    }
   ],
   "source": [
    "for column in daf.columns:\n",
    "    u=set()\n",
    "    for value in daf[column]:\n",
    "        u.add(type(value))\n",
    "    print(column,u)"
   ]
  },
  {
   "cell_type": "code",
   "execution_count": 6,
   "metadata": {
    "tags": []
   },
   "outputs": [
    {
     "output_type": "stream",
     "name": "stdout",
     "text": [
      "{nan}\n"
     ]
    }
   ],
   "source": [
    "l=set()\n",
    "for value in daf.address:\n",
    "    if type(value)!=str:\n",
    "        l.add(value)\n",
    "print(l)"
   ]
  },
  {
   "cell_type": "code",
   "execution_count": 8,
   "metadata": {
    "tags": [
     "outputPrepend"
    ]
   },
   "outputs": [
    {
     "output_type": "stream",
     "name": "stdout",
     "text": [
      ", 1], ['Frisco', 1], ['Salaberry-de-Valleyfield', 3], ['Somerton', 1], ['Claremont', 1], ['Ontario', 2], ['Centennial', 1], ['Mascouche', 7], ['Monona', 155], ['Blakeney', 1], ['South Amherst', 2], ['LITCHFIELD PK', 1], ['Chateau', 1], ['East Mississauga', 2], ['Tarentum', 55], ['Phoenix AZ', 1], ['Markham, ON', 1], ['Dollard-Des-Ormeaux', 30], ['Red Rock', 1], ['Saint-Laurent', 156], ['Sturgeon', 2], ['Sainte-thérèse', 1], ['Tremont', 1], ['Central City Village', 2], ['Hemmingford', 4], ['Robinson', 11], ['Yorkville', 1], ['Elrama', 1], ['Geauga', 2], ['DeForest', 21], ['East York', 166], ['Parma Hts', 1], ['Avalon', 11], ['Chicago', 2], ['HENDERSON', 1], ['Noyan', 2], ['Ahwatukee Foothills Village', 1], ['Whitney', 1], ['Vimont', 6], ['Valley City', 17], ['Oakdale', 56], ['Eastlake', 86], ['Wellington', 1], ['El Mirage', 135], ['Sheffield Lake', 18], ['Longueuil', 91], ['Chestermere', 37], ['Bridgeview', 1], ['Unionville', 57], ['Irwin', 83], ['Mcknight', 1], ['Burton', 30], ['Middleton', 392], ['Strongville', 1], ['Downsview', 5], ['Madison West', 2], ['Cote-Saint-Luc', 3], ['Orange', 16], ['Weston', 3], ['Mt Holly', 2], ['Etobocoke', 1], ['Alburg', 1], ['PHOENIX AP', 1], ['McMurry', 2], ['Chatauguay', 1], ['De Forest', 31], ['Venise-en-Québec', 1], ['Las  Vegas', 5], ['Midway', 1], ['Pepper Pike', 25], ['Middleburg Hts.', 1], ['Mint Hill', 119], ['South Charlotte', 1], ['Cuddy', 3], ['Chandler', 4580], ['St-Clet', 1], ['Bedford Hts', 1], ['West Mifflin', 160], ['St-Jerome', 4], ['Kingman', 1], ['Edgewood', 4], ['Rouses Point', 7], ['Reedsburg', 1], ['Lower Burrell', 24], ['Lachenaie', 4], ['Allison Park', 107], ['Oakvile', 1], ['Grafton', 22], ['TORONTO - DANFORTH (OT)', 1], ['Robinson Twp.', 1], ['McAdenville', 7], ['Mint  Hill', 1], ['Mesa Az', 1], ['Northfield', 114], ['Cross Plains', 29], ['Matthews', 812], ['Leetsdale', 13], ['Broadlands', 1], ['Nellis Air Force Base', 5], ['Columbus', 1], ['Chambly', 14], ['Euclid', 117], ['Davidson', 115], ['Deerfield', 1], ['Emsworth', 3], ['GLendale', 1], ['Mentor on the Lake', 1], ['Citibank', 1], ['Walton Hills', 7], ['Dorval', 126], ['South Park Township', 10], ['Clark', 5], ['Gibsonia', 125], ['Rigaud', 5], ['Montreal-Quest', 1], ['Mt. Lebanon', 9], ['Terrebonne', 26], ['Montreal-West', 3], ['Brampton FKA Bramalea', 1], ['pittsbuirgh', 1], ['Penfield', 1], ['Ange-Gardien', 1], ['PITTSBURGH AP', 1], ['Westlake', 444], ['Avon', 262], ['Queen West', 1], ['Township of Concord', 1], ['North Phoenix', 1], ['Mentor On the', 6], ['Surprise', 1218], ['Stallings', 22], ['Saint-Pierre-de-Véronne-à-Pike-River', 1], ['Willowick', 78], ['Barberton', 2], ['North York', 1319], ['Scarborough', 1244], ['Whtiby', 1], ['Millcreek', 1], ['Suprise', 1], ['North Olmstead', 4], ['Harwick', 1], ['Port Credit', 4], ['Kirtland', 19], ['Palgrave', 1], ['Perry', 8], ['Apache Trail', 1], ['Litchfield Park', 251], ['Cleveland Heights', 228], ['Vegas', 1], ['Rock Hill', 346], ['Morin-Heights', 6], ['Mayfield Hgts', 1], ['Black Earth', 10], ['Garrettsville', 1], ['Downtown', 5], ['Calgary', 8377], ['LaGrange', 5], ['Coraopolis', 195], ['ARSENAL', 1], ['COPLEY', 1], ['Toronto', 20366], ['New York', 1], ['Rockyview County', 1], ['GILBERT', 1], ['Jefferson Hills', 14], ['Caledon East', 10], ['N. Olmsted', 2], ['Saint Hubert', 1], ['ETOBICOKE', 1], ['Penn Hills Township', 1], ['Beachwood ', 1], ['Denver', 140], ['Gilbert', 3745], ['Mount Lebanon', 18], ['Hartlepool', 1], ['Nevada', 1], ['Phoneix', 1], ['Division No. 6', 3], ['Saint-Sauveur-des-Monts', 2], ['Orange Village', 15], ['Avondale', 745], ['Clairton', 21], ['Zephyr', 1], ['Leaside', 1], ['Las Vegass', 1], ['Sewickley', 126], ['North Strabane Township', 1], ['Nottingham Township', 1], ['CLEVELAND', 1], ['Cramerton', 15], ['Tega Cay', 38], ['lyndhurst', 1], ['Saint-Joseph-du-Lac', 2], ['CAVE CREEK', 1], ['Valleywide', 1], ['laveen', 1], ['Pickering Ajax Whitby', 1], ['Scottsdale', 9342], ['W.Mifflin', 1], ['Ashburn', 2], ['Homer', 3], ['Lakewood', 562], ['Phoenix', 20171], ['Tallmadge', 65], ['Cheswick', 33], ['Troy Township', 1], ['Regional Municipality of York', 1], ['The Promenade', 1], ['Etobiicoke', 2], ['Mount Mourne', 1], ['Columbia Station', 29], ['Beachwood', 328], ['Munroe Falls', 18], ['Maple Grove', 1], ['Sheffield Village', 34], ['Montréal-West', 1], ['Maumee', 1], ['Waxhaw', 188], ['Murrysville (Monroeville)', 1], ['Hopewell', 1], ['Mont-Royal', 38], ['Sainte-Anne-De-Bellevue', 7], ['Lakewood, Oh', 1], ['las vegas', 8], ['Greenway', 1], ['Rostraver', 1], ['Kennedy Township', 3], ['Phoenix ', 2], ['Montville', 2], ['Wilkins', 1], ['Henderson', 5272], ['pittsburgh', 3], ['West View', 15], ['Chardon', 103], ['Saint-Jérôme', 20], ['North Royalton', 170], ['La Vegas', 2], ['Estérel', 1], ['Buckeye - Shaker', 1], ['Lower Lawrenceville', 1], ['Willoughby Hills', 53], ['Youngtown', 71], ['Sainte-Therese', 3], ['Cleveland Hts.', 1], ['East Pittsburgh', 8], ['Charlotte ', 1], ['Tornto', 1], ['Shady Side', 1], ['St-Jean Sur Richelieu', 1], ['Lake Wylie', 62], ['charlotte', 4], ['Mes', 1], ['St Leonard', 2], ['Venetia', 8], ['Ville Saint Laurent', 2], ['Sainte-Thérèse', 13], ['Springfield', 1], ['Montréal', 6979], ['Brooklin', 10], ['Herminie', 5], ['Wildwood', 3], ['Las Vegas East', 1], ['Stoughton', 122], ['Amherst', 122], ['GLENDALE', 1], ['New River', 1], ['Joliet', 1], ['Reno', 1], ['East Gwillimburry', 1], ['Oshawa', 1], ['Saint-Joseph-Du-Lac', 1], ['Saint-Jean-sur-Richelieu', 35], ['Las Vegas,', 2], ['Central Henderson', 1], ['kirtland', 1], ['Macedonia', 119], ['Mc Murray', 13], ['Oakridges', 1], ['ROCKY RIVER', 1], ['Richmond Hts', 3], ['Northfield Center Township', 1], ['Heidelberg', 12], ['Indian Land, South Carolina', 1], ['Agincourt', 2], ['Mentor On The Lake', 6], ['Las Vegas, NV', 2], ['Fort Mcdowell', 3], ['Saintt-Bruno-de-Montarville', 1], ['Napierville', 2], ['Rainbow Valley', 1], ['Scarbrough', 2], ['N.Olmsted', 1], ['Outremont', 39], ['Upper Saint Clair', 12], ['Saint-Charles-Borromee', 1], ['Sainte-Julie', 17], ['Vaughan', 1045], ['Durham Regional Municipality', 2], ['Philo', 4], ['Nellis AFB', 14], ['North strabane', 1], ['Olmsted', 1], ['Scotesdale', 1], ['RŽpentigny', 1], ['York', 122], ['Bratenahl', 3], ['Peters (Township Of)', 1], ['Ballantyne', 1], ['Henryville', 1], [\"L'Assomption\", 2], ['North Las Vegas', 1677], ['Mazomanie', 1], ['Whitchurch-Stouffville', 56], ['Central', 1], ['Farmington', 1], ['Sunnyslope', 1], ['Forest Hills', 4], ['Beaconsfield', 11], ['Les Cèdres', 1], ['South Hills', 2], ['N. Huntingdon', 2], ['Brecksville', 95], ['Saint-Pie', 1], ['Uxbridge', 12], ['Cleveland', 3857], ['Châteauguay', 18], ['Sage Hill', 1], ['Schaumburg', 1], ['Prévost', 4], ['CONCORD', 1], ['Shaler Township', 2], ['Delson', 7], ['Waddell', 18], ['St-Sauveur', 1], ['Laveen', 135], ['Medina Township', 2], ['Cecil', 11], ['West Montréal', 1], ['Sutersville', 2], ['Marvin', 3], ['Peninsula', 28], ['Fabreville', 1], ['Mc Adenville', 1], ['North Olmsted,', 1], ['Huntsburg', 2], ['Lowesville', 2], ['N W Las Vegas', 1], ['Pont-Viau', 1], ['markham', 1], ['Brooklyn Heights', 3], ['Pitcairn', 6], ['Mattews', 1], ['Hazelwood', 1], ['Missisauga', 1], ['Sainte-Marguerite-du-Lac-Masson', 1], ['Medicine Hat', 1], ['Saint-laurent', 1], ['New Kensington', 87], ['Shaler', 1], ['Lodi', 1], ['Paradise Valley', 141], ['Westview', 1], ['Las Vegas Nv', 1], ['S.Euclid', 1], ['North Las Vegas ', 1], ['Urbana, Illinois', 1], ['Mckees Rocks', 19], ['Lower burrell', 1], ['Seattle', 1], ['Thorncliffe Park', 1], ['Repentigny', 10], ['N. Randall', 1], ['Belle Vernon', 8], ['Huntington Beach', 1], ['Toronto Division', 1], ['CHANDLER', 1], ['University Ht', 1], ['East Cleveland', 7], ['Salem', 1], ['Saint - Hyacinthe', 1], ['Val-Morin', 2], ['Henderston', 1], ['Green Tree', 2], ['McFarland', 33], ['Hamilton', 2], ['Boucherville', 41], ['Warrensville', 1], ['TEMPE', 1], ['Sidney', 3], ['Los Angeles', 2], ['Les Coteaux', 1], ['Inglewood', 3], ['Pine', 1], ['Higley', 22], ['Glendale Az', 1], ['Pitsburgh', 1], ['Boston Heights', 2], ['Wesley Chapel', 23], ['Savoy', 83], ['Pointe Claire', 3], ['Deux-Montagnes Regional County Municipality', 1], ['Avon lake', 1], ['Brunswick', 199], ['Apache Junction', 30], ['Saint-Bruno', 4], ['Wilkinsburg', 11], ['Mount Albert', 7], ['Tolleson', 168], ['Peoria', 2080], ['Edmonton', 2], ['Richmond Hts.', 1], ['Sedona', 1], ['Olmsted Falls', 59], ['Communauté-Urbaine-de-Montréal', 1], ['Antioch', 1], ['Pointe-Aux-Trembles', 4], ['Tuscola', 2], ['Lawrence', 2], ['Blainville', 18], ['Otterburn Park', 1], ['Sunrise Manor', 1], ['Grand River', 2], ['Richmond Hil', 1], ['Crescent', 2], ['Cranberry Twp', 1], ['Garfield Hts.', 1], ['Chomedey, Laval', 1], ['Bridgeville', 199], ['Warrenville', 1], ['Bedford', 120], ['Caledon Village', 1], ['Las Vegas Nevada', 1], ['Indian Land', 106], ['McMasterville', 1], ['MESA', 9], ['Old Scottsdale', 1], ['Promenade', 1], ['University', 1], ['North Scottsdale', 1], ['Mayfield Heights (Cleveland)', 1], ['Reminderville', 2], ['Fairport Harbor', 8], ['Toronto-North York', 1], ['glendale', 2], ['Toronto-Etobicoke', 1], ['McMurray', 109], ['Phoenix Metro Area', 1], ['Norton', 11], ['Mount Washington', 1], ['Down', 1], ['Midnapore', 1], ['Saint-Marc-sur-Richelieu', 2], ['Greensburg', 1], ['Hinckley', 23], ['Mcdonald', 1], ['North Versailles', 69], ['Whitehall', 1], ['Greenfield-Park', 1], ['Greensboro', 1], ['Dewey', 1], ['East Mesa', 1], ['Las Vegas ', 2], ['Oak Ridges', 2], ['Pheonix AZ', 1], ['Mansfield', 2], ['Novelty', 5], ['Montreal-Est', 1], ['Middlefield', 33], ['Wadsworth', 30], ['Garfield Heights', 56], ['Painesville Township', 1], ['Franklin Park', 3], ['Saint Leonard', 2], ['C Las Vegas', 1], ['Saint-Jean-Sur-Richelieu', 1], ['Phoeniix', 1], ['Dublin', 1], ['Columbia Sta', 1], ['Glbert', 1], ['Iberville', 1], ['Banksville', 1], ['Cooksville', 2], ['Pointe-Calumet', 2], ['Sainte-Geneviève', 3], ['Silver Lake', 2], ['Sainte-Marguerite-du-lac-Masson', 1], ['McKees Rocks', 66], ['Wilkens Township', 1], ['City Center', 1], ['N Ridgeville', 2], ['N Las Vegas', 28], ['Mc Kees Rocks', 40], ['Newbury', 21], ['Chateauguay', 9], ['Rillton', 2], ['Pheonix', 4], ['Lindale', 1], ['Kannapolis', 120], ['Plum', 22], ['Hnederson', 1], ['Oberlin', 6], ['Lawrenceville', 5], ['Saint-Hippolyte', 2], ['mesa', 5], ['Summerlin', 12], ['Mississuaga', 2], ['Markham', 1963], ['Regent Square', 1], ['SCOTTSDALE', 2], ['North Braddock', 2], ['Saint-Charles-Borromée', 1], ['Buena Vista', 1], ['Glassport', 9], [\"Baie-d'Urfé\", 2], ['Laval, Pont Viau', 1], ['Saint-Sauveur-Des-Monts', 1], ['Ahwatukee', 14], ['Etobicoke', 841], [\"De l'Eglise\", 1], ['Burlington', 2], ['Rock Hill SC', 1], ['Frazer', 1], ['Mentor-On-The-Lake', 1], ['Oakville', 401], ['Bainbridge', 7], ['toronto', 3], ['Boston', 2], ['Saint-Henri', 1], ['Highland Hts', 2], ['CHARLOTTE', 2], ['Cleveland heights', 1], ['Independence', 148], ['Mc Donald', 8], ['Catawba Springs', 1], ['Parma', 341], ['Pickering', 371], ['Northyork', 1], ['Mccandless Township', 1], ['Millvale', 21], ['Finleyville', 25], ['Fairlawn', 173], ['Olmsted Twp', 1], ['Lufkin', 1], ['Moreland Hills', 10], ['canonsburg', 1], ['Chander', 1], ['Mayfield', 16], ['Clover', 56], ['Kirkland', 51], ['St.Pittsburgh', 1], ['Paoli', 3], ['Shaker Hts', 2], ['East Credit', 1], ['Auburn Twp', 1], ['Blue Mounds', 1], ['Larimer', 1], ['Ogden', 6], ['Moon TWP', 1], ['Montréal-Nord', 4], ['Newburgh Heights', 1], ['Strip District', 1], ['East Hawkesbury', 1], ['Bedford Hts.', 1], ['Evergreen', 1], ['Median', 1], ['North Huntingdon', 46], ['Cave creek', 1], ['Bloomfield', 3], ['Leslieville', 2], ['Morgan Hill', 1], ['Brossard', 209], ['Scarobrough', 1], ['Oka', 7], ['scottsdale', 5], ['Deux-Montagnes', 1], ['Greenock', 1], ['San Francisco', 1], ['Bradford West Gwillimbury', 19], ['Saint-Sauveur', 55], ['McCandless Township', 8], [\"L'Île-Bizard\", 2], ['Uptown', 1], ['Black Rock City', 1], ['Penn Hills', 36], ['Montreal', 180], ['Kleinburg', 8], ['Saxonburg', 1], ['Dollard-des-Ormeaux', 107], ['Mississsauga', 1], ['Pittsburg', 9], ['Saint-Constant', 6], ['Henderson Nevada', 1], ['Cave Creek Road', 1], ['Fox Chapel', 4], ['Rougemont', 1], ['TORONTO', 1], ['Parma Hts.', 1], ['Pittsburch', 1], ['Northeast Calgary', 1], ['Saint-Léonard', 13], ['Murrysville', 121], ['SEWICKLEY', 1], ['Milton', 15], ['Sainte-Rose', 1], ['Etobicoke,', 1], ['Belmont', 187], ['Ingomar', 3], ['Indian land', 2], ['Seven Hills', 38], ['Suncity', 1], ['Rawdon', 3], ['AZ', 1], ['St Joseph', 1], ['Red Mountain', 1], ['Metro Phoenix', 1], ['Rio Verde', 5], ['Mt Lebanon', 10], ['Las Vegas', 31631], ['Neville Island', 2], ['Twinsburg', 148], ['Coteau-du-Lac', 2], ['Sainte-Anne-des-Plaines', 2], ['Broadview Heights', 142], ['QUEEN CREEK', 1], ['Beloeil', 11], ['Redding', 1], ['Tottenham', 6], ['Shadyside', 5], ['Mentor ohio', 1], ['Caledon', 35], ['West Toronto', 1], ['Mantua', 19], ['Thomasboro', 2], ['Sainte-Marthe', 1], ['Roxboro', 4], ['NorthYork', 1], ['Willowdale', 8], ['Saint-Lazare', 9], ['Nationwide', 1], ['Sainte-Adèle', 10], ['Sainte-Anne-de-Bellevue', 19], ['Monongahela', 20], ['Ansnorveldt', 1], ['Woodbridge', 264], ['Richmonhill', 1], ['Sauk City', 2], ['Old Port of Montreal', 1], ['San Tan Valley', 1], ['Don Mills', 5], ['Etna', 14], ['N.Ridgeville', 1], ['Cleveland Heigh', 1], ['Coteau-Du-Lac', 1], ['Toronto-West', 1], ['Indianola', 1], ['Ross Township', 8], ['Mooresville', 51], ['Mirabel', 7], ['Upper St Clair', 7], ['Airdrie', 186], ['Beauharnois', 3], ['Wexford', 302], ['Sun CIty', 1], ['Upper St. Clair', 8], ['Old Town Scottsdale', 1], ['Westport', 1], ['Saint-Esprit', 1], ['Chagrin Falls', 220], ['Symons Valley', 1], ['St-Jean-sur-Richelieu', 1], ['Litchfield', 10], ['cave Creek', 1], ['Maple Heights', 55], ['Bakerstown', 1], ['Mesa, AZ', 1], ['Fountain Hls', 1], ['Laval', 472], ['cleveland warrensville bedford', 1], ['W Henderson', 1], ['University Heights', 47], ['Willoughby', 274], ['Braddock', 13], ['Weddington', 16], ['Tampa', 1], ['Sun City', 300], ['Mc Farland', 28], ['North Huntington', 2], ['Dallas', 33], ['Delacour', 1], ['Montréal (Québec)', 1], ['Greenfield Park', 27], ['Montreal-Nord', 10], ['Green Valley', 1], ['Brampton', 1146], ['St-Leonard', 4], ['Montreal-Ouest', 4], ['Pennsylvania', 1], ['Mt. Washington', 1], ['Brooklyn Hts.', 1], ['North Ridgeville', 120], ['Robinson Township', 20], ['Saint-Isidore-de-Laprairie', 1], ['Leeds', 1], ['Verrado', 1], ['White Oak', 44], ['Urbana', 425], ['Anjou', 22], ['North Olmsted', 428], ['San Antonio', 1], ['Sandy Ridge', 1], ['Bapchule', 1], ['Swissvale', 11], [\"O'hara Township\", 1], ['Imperial', 24], ['Pahrump', 1], ['Henderson and Las vegas', 1], ['Lake Park', 2], ['NEWMARKET (OT)', 1], ['Georgetown', 40], ['Québec', 2], ['La Salle', 7], ['Central City', 1], ['Southside Flats', 1], ['Sunrise', 1], ['Desert Ridge', 1], ['South Heights', 1], ['Wahiawa', 1], ['Puyallup', 1], ['Valleyfield', 1], ['Wickliffe', 81], ['River Drive Park', 1], ['San Tan', 1], ['Henderson (Green Valley)', 1], ['Hampstead', 1], ['Lagrange', 7], ['Hiram', 7], ['Queen creek', 1], ['Stetson Valley', 1], ['Bedford Heights', 36], ['Rockyview', 2], ['Mahomet', 45], ['Fort MILL', 1], ['N Versailles', 1], ['Guadalupe', 28], ['Lowell', 19], ['Saint-Lambert', 27], ['Moon Township', 57], ['Mississaugua', 1], ['Dollard-Des Ormeaux', 3], ['Aurora', 421], ['Rockey View', 1], ['Montrose', 2], ['Rexdale', 6], ['Schottsdale', 1], ['Fort  Mill', 1], ['Springdale', 21], ['Dravosburg', 10], ['Russellton', 5], ['Southeast Calgary', 3], ['Avon Lake', 128], ['University Hts ', 1], ['Côte Saint-Luc', 7], ['Canonsburg', 189], ['NELLIS AFB', 1], ['Lavaltrie', 1], ['Ville Saint-Laurent', 1], ['Phoenix, AZ', 2], ['south Euclid', 1], ['Whitaker', 1], ['110 Las Vegas', 1], ['4321 W Flamingo Rd', 1], ['Vaudreuil-Dorion', 76], ['North  Ridgeville', 1], ['Glenshaw', 67], ['Carefree', 112], ['Monterey Park', 1], ['Mcfarland', 2], ['Sharpsburg', 10], ['Rosemère', 23], ['Olmsted Township', 6], ['Brentwood', 23], ['Alburgh', 1], ['Cuyahoga Fls', 3], ['Blue Diamond', 11], ['Bethel Park', 236], ['New Eagle', 5], ['SUN PRAIRIE', 1], ['Concord Township', 5], ['Rocky river', 1], ['Chertsey', 1], ['W Spring Valley', 1], ['Malton', 4], ['stoughton', 1], ['Hendersonville', 1], ['St-Lazare', 1], ['Pierrefonds', 57], ['Lorain', 129], ['Shorewood Hills', 1], ['Bainbridge Township', 2], ['Charlotte', 10422], ['Centre Island', 1], ['Port Vue', 1], ['Glenwillow', 1], ['Brunswick Hills', 1], ['Nellis Afb', 4], ['Windsor', 20], ['Sainte-Dorothée', 1], ['etobicoke', 1], ['Morgan', 1], ['Pgh Int Arprt', 1], ['moon', 1], ['Creighton', 3], ['Mississauga', 3518], ['Candiac', 6], ['Quartier des Spectacles', 1], ['Old Brooklyn', 1], ['Schomberg', 10], ['Centennial Hills', 1], ['Aspinwall', 26], [\"Notre-Dame-De-L'ile-Perrot\", 1], ['Bradford Woods', 1], ['S Concord', 1], ['Sainte-Thérèse-de-Blainville', 2], ['North Toronto', 1], ['Cornelius', 495], ['Sun Prairie', 276], ['Stanley', 24], ['Cuyahoga Falls', 401], ['Sagamore Hills', 9], ['Laveen Village', 16], ['Ranlo', 1], [\"Notre-Dame-de-l'Ile-Perrot\", 2], ['Draper', 1], ['Elizabeth', 39], ['Northfield Center', 7], ['Ste-Rose', 1], ['Sharon', 1], ['Verdun', 174], ['Peters Township', 2], ['Mont St-hilaire', 1], ['Richmond Hill', 1153], ['Pittsburgh', 7630], ['Milford', 1], ['Sun Lakes', 39], ['Scottdale', 4], ['Hudson', 213], ['West Valley', 1], ['Le Sud-Ouest', 1], ['Mesa', 6577], ['Fairview Park', 118], ['Kettleby', 2], ['Grand Rapids', 1], ['Bradfordwoods', 1], ['E Midland', 1], ['Cuyohoga Falls', 1], ['Saint-Hubert', 28], ['Paw Creek', 1], ['Solon', 237], ['Clinton', 1], ['Litchfield park', 1], ['Westworld Scottsdale', 1], ['Carnegie', 124], ['Mentor', 559], ['Indian Trail', 313], ['Fort Mills', 1], ['Deforest', 10], ['Ft. Mill', 2], ['Varennes', 3], ['Blawnox', 7], ['MOORESVILLE', 1], ['Warrensville Hts.', 1], ['Perry Twp', 1], ['Boulder City', 283], ['Dormont', 9], ['Beltline', 1], ['Bois-des-Filion', 2], ['henderson', 3], ['Bentleyville', 2], ['East Gwillimbury', 27], ['Parma Heights', 84], ['West Elizabeth', 3], ['Crouse', 1], ['Rocky View No. 44', 3], ['Yorkdale', 1], ['Madison', 3685], ['Dane', 7], ['Parma mid birth', 1], ['Lynhurst', 1], ['PHOENIX', 9], ['Scottsdale, AZ', 1], [\"L'Île-Perrot\", 10], ['Whitby', 323], ['Sainte-Genevieve', 2], ['Oregon', 81], ['Lake Las Vegas', 1], [\"L'ile-Bizard\", 2], ['Gormley', 6], ['Crafton', 12], ['Russell Twp', 1], ['Moon Twp', 3], ['Duquesne', 8], ['Rosemere', 8], ['Munhall', 31], ['Whiitby', 1], ['Sainte- Adele', 1], ['Cottage Grove', 46], ['Middleburg Heights', 166], ['Ft.Mill', 1], ['Middleburg Hts', 9], ['Cleveland ', 1], ['Charlemagne', 3], ['Lachute', 8], ['Shaker Heights', 85], ['Sheffield', 10], ['Ajax', 343], ['Fithian', 1], ['cave creek', 1], ['Saint-Philippe', 1], ['PEORIA', 2], ['Woodmere', 66], ['South Las Vegas', 2], ['Villa Grove', 2], ['Etibicoke', 1], ['Darlington', 1], ['Mayfield Hts', 5], ['Mount Holly', 55], ['LAS VEGAS', 13], ['cleveland', 2], ['Boulder CIty', 1], ['Monreoville', 1], ['Anthem', 34], ['SW Calgary', 1], ['Brooklyn', 87], ['Highland Park', 1], ['Houston', 1], ['Thornhill', 434], ['Mcmurray', 12], ['Mont-Saint-Grégoire', 6], ['Peninsul', 1], ['Library', 4], ['St. Joseph', 2], ['Ahwahtukee', 1], ['Akron', 512], [\"L'ile-Perrot\", 5], ['Valley View', 29], ['Saint-Liboire', 1], ['East Calgary', 1], ['Sainte-Catherine', 4], ['Alberta', 1], ['Midland', 25], ['East Point', 1], ['Piedmont', 5], ['Saint-Basile-Le-Grand', 1], ['Madison East', 1], ['Summerlin South', 2], ['Harrison City', 7], ['montreal', 1], ['Strongsville', 426], ['Pleasant Hill', 1], ['Beeton', 5], ['Tucson', 1], ['Ville-Marie', 1], ['Mayfield Heights.', 1], ['Locust', 15], ['Lacolle', 1], ['Jean', 1], ['Mathews', 2], ['Pincourt', 3], ['Monticello', 36], ['Sainte-Adele', 10], ['Mentor-on-the-Lake', 11], ['Fort mill', 3], ['Pleasant Hills', 39], ['Ravenna', 19], ['Oakwood', 3], ['Farnham', 2], ['Lyndhurst', 130], [\"Saint-Roch-de-l'Achigan\", 1], ['Indian Land,', 1], ['Export', 5]]\n"
     ]
    }
   ],
   "source": [
    "l=[]\n",
    "m=set()\n",
    "for value in daf.city:\n",
    "    if type(value)==str:\n",
    "        l.append(value)\n",
    "        m.add(value)\n",
    "print(len(l))\n",
    "print(sum(daf[\"city\"]==\"Montreal\"))\n",
    "x=[]\n",
    "for city in m:\n",
    "    x.append([city,sum(daf[\"city\"]==city)])\n",
    "print(x)\n"
   ]
  },
  {
   "cell_type": "code",
   "execution_count": 7,
   "metadata": {},
   "outputs": [
    {
     "output_type": "error",
     "ename": "NameError",
     "evalue": "name 'x' is not defined",
     "traceback": [
      "\u001b[1;31m---------------------------------------------------------------------------\u001b[0m",
      "\u001b[1;31mNameError\u001b[0m                                 Traceback (most recent call last)",
      "\u001b[1;32m<ipython-input-7-280777bd9a99>\u001b[0m in \u001b[0;36m<module>\u001b[1;34m\u001b[0m\n\u001b[1;32m----> 1\u001b[1;33m \u001b[1;32mfor\u001b[0m \u001b[0ml\u001b[0m \u001b[1;32min\u001b[0m \u001b[0mx\u001b[0m\u001b[1;33m:\u001b[0m\u001b[1;33m\u001b[0m\u001b[1;33m\u001b[0m\u001b[0m\n\u001b[0m\u001b[0;32m      2\u001b[0m     \u001b[1;32mif\u001b[0m \u001b[0ml\u001b[0m\u001b[1;33m[\u001b[0m\u001b[1;36m1\u001b[0m\u001b[1;33m]\u001b[0m\u001b[1;33m>=\u001b[0m\u001b[1;36m10000\u001b[0m\u001b[1;33m:\u001b[0m\u001b[1;33m\u001b[0m\u001b[1;33m\u001b[0m\u001b[0m\n\u001b[0;32m      3\u001b[0m         \u001b[0mprint\u001b[0m\u001b[1;33m(\u001b[0m\u001b[0ml\u001b[0m\u001b[1;33m)\u001b[0m\u001b[1;33m\u001b[0m\u001b[1;33m\u001b[0m\u001b[0m\n",
      "\u001b[1;31mNameError\u001b[0m: name 'x' is not defined"
     ]
    }
   ],
   "source": [
    "for l in x:\n",
    "    if l[1]>=10000:\n",
    "        print(l)\n"
   ]
  },
  {
   "cell_type": "code",
   "execution_count": 41,
   "metadata": {},
   "outputs": [
    {
     "output_type": "stream",
     "name": "stdout",
     "text": [
      "{1.5, 2.5, 3.0, 3.5, 4.5, 5.0, 4.0, 2.0, 1.0}\n"
     ]
    }
   ],
   "source": [
    "l=set()\n",
    "for value in daf.stars:\n",
    "    if type(value)!=str:\n",
    "        l.add(value)\n",
    "print(l)"
   ]
  },
  {
   "cell_type": "code",
   "execution_count": 53,
   "metadata": {},
   "outputs": [
    {
     "output_type": "stream",
     "name": "stdout",
     "text": [
      "[[0, 1, 2, 3, 4], [1, 2, 3, 4, 5], [2, 3, 4, 5, 6], [3, 4, 5, 6, 7], [4, 5, 6, 7, 8], [5, 6, 7, 8, 9]]\n[False, False, False, True, False]\n"
     ]
    },
    {
     "output_type": "error",
     "ename": "TypeError",
     "evalue": "list indices must be integers or slices, not list",
     "traceback": [
      "\u001b[1;31m---------------------------------------------------------------------------\u001b[0m",
      "\u001b[1;31mTypeError\u001b[0m                                 Traceback (most recent call last)",
      "\u001b[1;32m<ipython-input-53-1702ca6ec1f6>\u001b[0m in \u001b[0;36m<module>\u001b[1;34m\u001b[0m\n\u001b[0;32m      7\u001b[0m     \u001b[1;32mfor\u001b[0m \u001b[0mvalue\u001b[0m \u001b[1;32min\u001b[0m \u001b[0mz\u001b[0m\u001b[1;33m[\u001b[0m\u001b[0mi\u001b[0m\u001b[1;33m]\u001b[0m\u001b[1;33m:\u001b[0m\u001b[1;33m\u001b[0m\u001b[1;33m\u001b[0m\u001b[0m\n\u001b[0;32m      8\u001b[0m         \u001b[1;32mif\u001b[0m \u001b[0mvalue\u001b[0m\u001b[1;33m==\u001b[0m\u001b[1;36m4\u001b[0m\u001b[1;33m:\u001b[0m\u001b[1;33m\u001b[0m\u001b[1;33m\u001b[0m\u001b[0m\n\u001b[1;32m----> 9\u001b[1;33m             \u001b[0mz\u001b[0m\u001b[1;33m[\u001b[0m\u001b[0mi\u001b[0m\u001b[1;33m]\u001b[0m\u001b[1;33m[\u001b[0m\u001b[1;33m[\u001b[0m\u001b[0mz\u001b[0m\u001b[1;33m[\u001b[0m\u001b[0mi\u001b[0m\u001b[1;33m]\u001b[0m\u001b[1;33m[\u001b[0m\u001b[0mj\u001b[0m\u001b[1;33m]\u001b[0m\u001b[1;33m==\u001b[0m\u001b[1;36m4\u001b[0m \u001b[1;32mfor\u001b[0m \u001b[0mj\u001b[0m \u001b[1;32min\u001b[0m \u001b[0mrange\u001b[0m\u001b[1;33m(\u001b[0m\u001b[0mlen\u001b[0m\u001b[1;33m(\u001b[0m\u001b[0mz\u001b[0m\u001b[1;33m[\u001b[0m\u001b[0mi\u001b[0m\u001b[1;33m]\u001b[0m\u001b[1;33m)\u001b[0m\u001b[1;33m)\u001b[0m\u001b[1;33m]\u001b[0m\u001b[1;33m]\u001b[0m\u001b[1;33m=\u001b[0m\u001b[1;36m0\u001b[0m\u001b[1;33m\u001b[0m\u001b[1;33m\u001b[0m\u001b[0m\n\u001b[0m\u001b[0;32m     10\u001b[0m             \u001b[0mz\u001b[0m\u001b[1;33m[\u001b[0m\u001b[0mi\u001b[0m\u001b[1;33m]\u001b[0m\u001b[1;33m[\u001b[0m\u001b[1;33m[\u001b[0m\u001b[0mz\u001b[0m\u001b[1;33m[\u001b[0m\u001b[0mi\u001b[0m\u001b[1;33m]\u001b[0m\u001b[1;33m[\u001b[0m\u001b[0mj\u001b[0m\u001b[1;33m]\u001b[0m\u001b[1;33m==\u001b[0m\u001b[1;36m5\u001b[0m \u001b[1;32mfor\u001b[0m \u001b[0mj\u001b[0m \u001b[1;32min\u001b[0m \u001b[0mrange\u001b[0m\u001b[1;33m(\u001b[0m\u001b[0mlen\u001b[0m\u001b[1;33m(\u001b[0m\u001b[0mz\u001b[0m\u001b[1;33m[\u001b[0m\u001b[0mi\u001b[0m\u001b[1;33m]\u001b[0m\u001b[1;33m)\u001b[0m\u001b[1;33m)\u001b[0m\u001b[1;33m]\u001b[0m\u001b[1;33m]\u001b[0m\u001b[1;33m=\u001b[0m\u001b[1;36m1\u001b[0m\u001b[1;33m\u001b[0m\u001b[1;33m\u001b[0m\u001b[0m\n\u001b[0;32m     11\u001b[0m \u001b[0mprint\u001b[0m\u001b[1;33m(\u001b[0m\u001b[0mz\u001b[0m\u001b[1;33m)\u001b[0m\u001b[1;33m\u001b[0m\u001b[1;33m\u001b[0m\u001b[0m\n",
      "\u001b[1;31mTypeError\u001b[0m: list indices must be integers or slices, not list"
     ]
    }
   ],
   "source": [
    "x=list(range(10))\n",
    "y=[x[i:i+5] for i in range(6) ]\n",
    "print(y)\n",
    "z=y\n",
    "print([z[1][j]==4 for j in range(len(z[1]))])\n",
    "for i in range(len(z)):\n",
    "    for value in z[i]:\n",
    "        if value==4:\n",
    "            z[i][[z[i][j]==4 for j in range(len(z[i]))]]=0\n",
    "            z[i][[z[i][j]==5 for j in range(len(z[i]))]]=1\n",
    "print(z)"
   ]
  },
  {
   "cell_type": "code",
   "execution_count": 71,
   "metadata": {},
   "outputs": [
    {
     "output_type": "execute_result",
     "data": {
      "text/plain": [
       "     A      B  C\n",
       "0  100  False  a\n",
       "1    1      6  b\n",
       "2    2      7  c\n",
       "3    3      8  d\n",
       "4  100      9  e"
      ],
      "text/html": "<div>\n<style scoped>\n    .dataframe tbody tr th:only-of-type {\n        vertical-align: middle;\n    }\n\n    .dataframe tbody tr th {\n        vertical-align: top;\n    }\n\n    .dataframe thead th {\n        text-align: right;\n    }\n</style>\n<table border=\"1\" class=\"dataframe\">\n  <thead>\n    <tr style=\"text-align: right;\">\n      <th></th>\n      <th>A</th>\n      <th>B</th>\n      <th>C</th>\n    </tr>\n  </thead>\n  <tbody>\n    <tr>\n      <th>0</th>\n      <td>100</td>\n      <td>False</td>\n      <td>a</td>\n    </tr>\n    <tr>\n      <th>1</th>\n      <td>1</td>\n      <td>6</td>\n      <td>b</td>\n    </tr>\n    <tr>\n      <th>2</th>\n      <td>2</td>\n      <td>7</td>\n      <td>c</td>\n    </tr>\n    <tr>\n      <th>3</th>\n      <td>3</td>\n      <td>8</td>\n      <td>d</td>\n    </tr>\n    <tr>\n      <th>4</th>\n      <td>100</td>\n      <td>9</td>\n      <td>e</td>\n    </tr>\n  </tbody>\n</table>\n</div>"
     },
     "metadata": {},
     "execution_count": 71
    }
   ],
   "source": [
    "daf=daf.replace({'attributes.Open24Hours': {True: 1 , False: 0} })"
   ]
  },
  {
   "cell_type": "code",
   "execution_count": 72,
   "metadata": {},
   "outputs": [
    {
     "output_type": "stream",
     "name": "stdout",
     "text": [
      "business_id {<class 'str'>}\n",
      "name {<class 'float'>, <class 'str'>}\n",
      "address {<class 'float'>, <class 'str'>}\n",
      "city {<class 'float'>, <class 'str'>}\n",
      "state {<class 'str'>}\n",
      "postal_code {<class 'float'>, <class 'str'>}\n",
      "latitude {<class 'float'>}\n",
      "longitude {<class 'float'>}\n",
      "stars {<class 'float'>}\n",
      "review_count {<class 'int'>}\n",
      "is_open {<class 'int'>}\n",
      "categories {<class 'float'>, <class 'str'>}\n",
      "attributes.BusinessAcceptsCreditCards {<class 'float'>, <class 'str'>}\n",
      "attributes.BikeParking {<class 'float'>, <class 'str'>}\n",
      "attributes.GoodForKids {<class 'float'>, <class 'str'>}\n",
      "attributes.BusinessParking {<class 'float'>, <class 'str'>}\n",
      "attributes.ByAppointmentOnly {<class 'float'>, <class 'str'>}\n",
      "attributes.RestaurantsPriceRange2 {<class 'float'>, <class 'str'>}\n",
      "hours.Monday {<class 'float'>, <class 'str'>}\n",
      "hours.Tuesday {<class 'float'>, <class 'str'>}\n",
      "hours.Wednesday {<class 'float'>, <class 'str'>}\n",
      "hours.Thursday {<class 'float'>, <class 'str'>}\n",
      "hours.Friday {<class 'float'>, <class 'str'>}\n",
      "hours.Saturday {<class 'float'>, <class 'str'>}\n",
      "hours.Sunday {<class 'float'>, <class 'str'>}\n",
      "hours {<class 'float'>}\n",
      "attributes {<class 'float'>}\n",
      "attributes.DogsAllowed {<class 'float'>, <class 'str'>}\n",
      "attributes.WiFi {<class 'float'>, <class 'str'>}\n",
      "attributes.RestaurantsAttire {<class 'float'>, <class 'str'>}\n",
      "attributes.RestaurantsTakeOut {<class 'float'>, <class 'str'>}\n",
      "attributes.NoiseLevel {<class 'float'>, <class 'str'>}\n",
      "attributes.RestaurantsReservations {<class 'float'>, <class 'str'>}\n",
      "attributes.RestaurantsGoodForGroups {<class 'float'>, <class 'str'>}\n",
      "attributes.HasTV {<class 'float'>, <class 'str'>}\n",
      "attributes.Alcohol {<class 'float'>, <class 'str'>}\n",
      "attributes.RestaurantsDelivery {<class 'float'>, <class 'str'>}\n",
      "attributes.OutdoorSeating {<class 'float'>, <class 'str'>}\n",
      "attributes.Caters {<class 'float'>, <class 'str'>}\n",
      "attributes.WheelchairAccessible {<class 'float'>, <class 'str'>}\n",
      "attributes.AcceptsInsurance {<class 'float'>, <class 'str'>}\n",
      "attributes.RestaurantsTableService {<class 'float'>, <class 'str'>}\n",
      "attributes.Ambience {<class 'float'>, <class 'str'>}\n",
      "attributes.GoodForMeal {<class 'float'>, <class 'str'>}\n",
      "attributes.HappyHour {<class 'float'>, <class 'str'>}\n",
      "attributes.BusinessAcceptsBitcoin {<class 'float'>, <class 'str'>}\n",
      "attributes.BYOB {<class 'float'>, <class 'str'>}\n",
      "attributes.Corkage {<class 'float'>, <class 'str'>}\n",
      "attributes.GoodForDancing {<class 'float'>, <class 'str'>}\n",
      "attributes.CoatCheck {<class 'float'>, <class 'str'>}\n",
      "attributes.BestNights {<class 'float'>, <class 'str'>}\n",
      "attributes.Music {<class 'float'>, <class 'str'>}\n",
      "attributes.Smoking {<class 'float'>, <class 'str'>}\n",
      "attributes.DietaryRestrictions {<class 'float'>, <class 'str'>}\n",
      "attributes.DriveThru {<class 'float'>, <class 'str'>}\n",
      "attributes.HairSpecializesIn {<class 'float'>, <class 'str'>}\n",
      "attributes.BYOBCorkage {<class 'float'>, <class 'str'>}\n",
      "attributes.AgesAllowed {<class 'float'>, <class 'str'>}\n",
      "attributes.RestaurantsCounterService {<class 'float'>, <class 'bool'>}\n",
      "attributes.Open24Hours {<class 'float'>}\n"
     ]
    }
   ],
   "source": [
    "for column in daf.columns:\n",
    "    u=set()\n",
    "    for value in daf[column]:\n",
    "        u.add(type(value))\n",
    "    print(column,u)"
   ]
  },
  {
   "cell_type": "code",
   "execution_count": 67,
   "metadata": {},
   "outputs": [
    {
     "output_type": "stream",
     "name": "stdout",
     "text": [
      "{nan, True, False}\n"
     ]
    }
   ],
   "source": [
    "l=set()\n",
    "for value in daf['attributes.RestaurantsCounterService']:\n",
    "    if type(value)!=str:\n",
    "        l.add(value)\n",
    "print(l)"
   ]
  },
  {
   "cell_type": "code",
   "execution_count": null,
   "metadata": {},
   "outputs": [],
   "source": []
  }
 ]
}